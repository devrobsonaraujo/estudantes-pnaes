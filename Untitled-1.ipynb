{
 "cells": [
  {
   "cell_type": "markdown",
   "metadata": {},
   "source": [
    "### Estudantes beneficiados pelo PNAES\n",
    "\n",
    "1. Distribuição Geral:\n",
    "- Qual é a distribuição de bolsas oferecidas pelo PNAES?\n",
    "- Como as bolsas estão distribuidas por campos?\n",
    "- Como as bolsas estão distribuidas por curso?\n",
    "\n",
    "2. Análise de Frequência:\n",
    "- Qual é a frequência de cada tipo de bolsa por campus?\n",
    "- Qual é a frequência de cada tipo de bolsa por curso?\n",
    "- Qual campus tem o maior número de bolsas distribuídas?\n",
    "\n",
    "3. Comparações e Proporções:\n",
    "- Qual a proporção de cada tipo de bolsa em relação ao total de bolsas por campus?\n",
    "- Qual a proporção de cada tipo de bolsa em relação ao total de bolsas por curso?\n",
    "- Existe algum curso que se destaca em termos de quantidade de bolsas recebidas?\n",
    "\n",
    "4. Tendências e Padrões \n",
    "- Existe uma tendência de maior quantidade de bolsas em determinados cursos ou campi?\n",
    "- Quais cursos recebem mais bolsas em cada campus?\n",
    "- Quais campis distribuem mais bolsas em comparação com os outros?\n",
    "\n",
    "5. Agrupamentos e Cluster\n",
    "- Existe algum agrupamento de campi ou cursos que recebem tipos específicos de bolsa?\n",
    "- Podemos identificar clusters de cursos que são mais beneficiados por determinados tipos de bolsas?"
   ]
  },
  {
   "cell_type": "code",
   "execution_count": 43,
   "metadata": {},
   "outputs": [],
   "source": [
    "import pandas as pd\n",
    "import plotly.express as px\n",
    "\n",
    "df = pd.read_csv('planilha-csv-janeiro-2023.csv', encoding='latin-1', sep=';')"
   ]
  },
  {
   "cell_type": "markdown",
   "metadata": {},
   "source": [
    "### Tratamento de Dados"
   ]
  },
  {
   "cell_type": "code",
   "execution_count": null,
   "metadata": {},
   "outputs": [],
   "source": [
    "\n",
    "print('=== Verificando valores ausentes ===')\n",
    "df.isnull().sum()\n",
    "\n",
    "print('=== Verificando valores que não estão ausentes ===')\n",
    "df.notnull()\n",
    "\n",
    "print('=== Verificando valores duplicados ===')\n",
    "df.duplicated().sum()"
   ]
  },
  {
   "cell_type": "markdown",
   "metadata": {},
   "source": [
    "1. Distribuição Geral:\n",
    "- Qual é a distribuição de bolsas oferecidas pelo PNAES?\n",
    "- Como as bolsas estão distribuidas por campos?\n",
    "- Como as bolsas estão distribuidas por curso?"
   ]
  },
  {
   "cell_type": "code",
   "execution_count": null,
   "metadata": {},
   "outputs": [],
   "source": [
    "print('==== Distribuição de Bolsas ====\\n')\n",
    "qnt_bolsas = df['Bolsa'].count()\n",
    "print(f\"O PNAES oferece um total de {qnt_bolsas} bolsas\\n\")\n",
    "\n",
    "print('====Distribuição de Bolsas por Campus ====\\n')\n",
    "qnt_bolsas_campus = df['Campus'].value_counts()\n",
    "\n",
    "qnt_juizdeFora = qnt_bolsas_campus['JUIZ DE FORA']\n",
    "qnt_govValadares = qnt_bolsas_campus['GOVERNADOR VALADARES']\n",
    "\n",
    "print(f\"Distribuição das Bolsas: {qnt_juizdeFora} em Juiz de Fora e {qnt_govValadares} em Governador Valadares\\n\")\n",
    "\n",
    "print('====Distribuição de Bolsas por Curso ====')\n",
    "\n",
    "df.columns = df.columns.str.strip()\n",
    "\n",
    "qnt_bolsas_curso = df.groupby('Curso')['Quantidade'].sum()\n",
    "qnt_bolsas_curso"
   ]
  },
  {
   "cell_type": "markdown",
   "metadata": {},
   "source": [
    "2. Análise de Frequência:\n",
    "- Qual é a frequência de cada tipo de bolsa por campus?\n",
    "- Qual é a frequência de cada tipo de bolsa por curso?\n",
    "- Qual campus tem o maior número de bolsas distribuídas?"
   ]
  },
  {
   "cell_type": "code",
   "execution_count": null,
   "metadata": {},
   "outputs": [],
   "source": [
    "print('==== Frequência de cada tipo de Bolsa por Campus ====')\n",
    "freq_bolsa_campus = df.groupby(['Bolsa', 'Campus']).size().unstack(fill_value=0)\n",
    "freq_bolsa_campus\n",
    "\n",
    "print('==== Frequência de cada tipo de Bolsa ´por Curso ====')\n",
    "freq_bolsa_curso = df.groupby(['Bolsa', 'Curso']).size().unstack(fill_value=0)\n",
    "freq_bolsa_curso\n",
    "\n",
    "print('==== Qual Campus tem maior número de bolsas distribuídas ====')\n",
    "total_bolsas = df.groupby('Campus')['Quantidade'].sum()\n",
    "total_bolsas\n",
    "\n",
    "campus_maior_bolsas = total_bolsas.idxmax()\n",
    "numero_bolsas = total_bolsas.max()\n",
    "\n",
    "print(f\"O Campus {campus_maior_bolsas} tem maior número de bolsas que estão distribuídas em {numero_bolsas} bolsas.\")"
   ]
  },
  {
   "cell_type": "markdown",
   "metadata": {},
   "source": [
    "3. Comparações e Proporções:\n",
    "- Qual a proporção de cada tipo de bolsa em relação ao total de bolsas por campus?\n",
    "- Qual a proporção de cada tipo de bolsa em relação ao total de bolsas por curso?\n",
    "- Existe algum curso que se destaca em termos de quantidade de bolsas recebidas?"
   ]
  },
  {
   "cell_type": "code",
   "execution_count": null,
   "metadata": {},
   "outputs": [],
   "source": [
    "print('Continuar respostas')"
   ]
  },
  {
   "cell_type": "code",
   "execution_count": null,
   "metadata": {},
   "outputs": [],
   "source": [
    "print('Coluna de teste')"
   ]
  }
 ],
 "metadata": {
  "kernelspec": {
   "display_name": "Python 3",
   "language": "python",
   "name": "python3"
  },
  "language_info": {
   "codemirror_mode": {
    "name": "ipython",
    "version": 3
   },
   "file_extension": ".py",
   "mimetype": "text/x-python",
   "name": "python",
   "nbconvert_exporter": "python",
   "pygments_lexer": "ipython3",
   "version": "3.12.3"
  }
 },
 "nbformat": 4,
 "nbformat_minor": 2
}
